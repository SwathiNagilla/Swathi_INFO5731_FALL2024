{
  "cells": [
    {
      "cell_type": "markdown",
      "metadata": {
        "id": "view-in-github",
        "colab_type": "text"
      },
      "source": [
        "<a href=\"https://colab.research.google.com/github/SwathiNagilla/Swathi_INFO5731_FALL2024/blob/main/Nagilla_Swathi_Exercise_4_Updated.ipynb\" target=\"_parent\"><img src=\"https://colab.research.google.com/assets/colab-badge.svg\" alt=\"Open In Colab\"/></a>"
      ]
    },
    {
      "cell_type": "markdown",
      "metadata": {
        "id": "VdRwkJBn70nX"
      },
      "source": [
        "# **INFO5731 In-class Exercise 4**\n",
        "\n",
        "**This exercise will provide a valuable learning experience in working with text data and extracting features using various topic modeling algorithms. Key concepts such as Latent Dirichlet Allocation (LDA), Latent Semantic Analysis (LSA), lda2vec, and BERTopic.**"
      ]
    },
    {
      "cell_type": "markdown",
      "source": [
        "***Please use the text corpus you collected in your last in-class-exercise for this exercise. Perform the following tasks***.\n",
        "\n",
        "**Expectations**:\n",
        "*   Students are expected to complete the exercise during lecture period to meet the active participation criteria of the course.\n",
        "*   Use the provided .*ipynb* document to write your code & respond to the questions. Avoid generating a new file.\n",
        "*   Write complete answers and run all the cells before submission.\n",
        "*   Make sure the submission is \"clean\"; *i.e.*, no unnecessary code cells.\n",
        "*   Once finished, allow shared rights from top right corner (*see Canvas for details*).\n",
        "\n",
        "**Total points**: 40\n",
        "\n",
        "**Deadline**: This in-class exercise is due at the end of the day tomorrow, at 11:59 PM.\n",
        "\n",
        "**Late submissions will have a penalty of 10% of the marks for each day of late submission, and no requests will be answered. Manage your time accordingly.**\n"
      ],
      "metadata": {
        "id": "TU-pLW33lpcS"
      }
    },
    {
      "cell_type": "markdown",
      "metadata": {
        "id": "ARqm7u6B70ne"
      },
      "source": [
        "## Question 1 (10 Points)\n",
        "\n",
        "**Generate K topics by using LDA, the number of topics K should be decided by the coherence score, then summarize what are the topics.**\n",
        "\n",
        "You may refer the code here: https://www.machinelearningplus.com/nlp/topic-modeling-gensim-python/"
      ]
    },
    {
      "cell_type": "code",
      "execution_count": 15,
      "metadata": {
        "id": "VAZj4PHB70nf",
        "colab": {
          "base_uri": "https://localhost:8080/"
        },
        "outputId": "bda257f8-b82d-4149-be0f-d3d660304134"
      },
      "outputs": [
        {
          "output_type": "stream",
          "name": "stderr",
          "text": [
            "/usr/local/lib/python3.10/dist-packages/ipykernel/ipkernel.py:283: DeprecationWarning: `should_run_async` will not call `transform_cell` automatically in the future. Please pass the result to `transformed_cell` argument and any exception that happen during thetransform in `preprocessing_exc_tuple` in IPython 7.17 and above.\n",
            "  and should_run_async(code)\n"
          ]
        },
        {
          "output_type": "stream",
          "name": "stdout",
          "text": [
            "Requirement already satisfied: gensim in /usr/local/lib/python3.10/dist-packages (4.3.3)\n",
            "Requirement already satisfied: nltk in /usr/local/lib/python3.10/dist-packages (3.8.1)\n",
            "Requirement already satisfied: numpy<2.0,>=1.18.5 in /usr/local/lib/python3.10/dist-packages (from gensim) (1.26.4)\n",
            "Requirement already satisfied: scipy<1.14.0,>=1.7.0 in /usr/local/lib/python3.10/dist-packages (from gensim) (1.13.1)\n",
            "Requirement already satisfied: smart-open>=1.8.1 in /usr/local/lib/python3.10/dist-packages (from gensim) (7.0.5)\n",
            "Requirement already satisfied: click in /usr/local/lib/python3.10/dist-packages (from nltk) (8.1.7)\n",
            "Requirement already satisfied: joblib in /usr/local/lib/python3.10/dist-packages (from nltk) (1.4.2)\n",
            "Requirement already satisfied: regex>=2021.8.3 in /usr/local/lib/python3.10/dist-packages (from nltk) (2024.9.11)\n",
            "Requirement already satisfied: tqdm in /usr/local/lib/python3.10/dist-packages (from nltk) (4.66.6)\n",
            "Requirement already satisfied: wrapt in /usr/local/lib/python3.10/dist-packages (from smart-open>=1.8.1->gensim) (1.16.0)\n"
          ]
        },
        {
          "output_type": "stream",
          "name": "stderr",
          "text": [
            "[nltk_data] Downloading package stopwords to /root/nltk_data...\n",
            "[nltk_data]   Package stopwords is already up-to-date!\n",
            "[nltk_data] Downloading package punkt to /root/nltk_data...\n",
            "[nltk_data]   Package punkt is already up-to-date!\n"
          ]
        },
        {
          "output_type": "stream",
          "name": "stdout",
          "text": [
            "Optimal Number of Topics: 9\n",
            "(0, '0.098*\"independence\" + 0.052*\"july\" + 0.052*\"britain\" + 0.052*\"marking\" + 0.052*\"1776\"')\n",
            "(1, '0.050*\"1803\" + 0.050*\"doubled\" + 0.050*\"president\" + 0.050*\"acquired\" + 0.050*\"thomas\"')\n",
            "(2, '0.063*\"american\" + 0.063*\"women\" + 0.063*\"industrial\" + 0.033*\"transformed\" + 0.033*\"led\"')\n",
            "(3, '0.090*\"rights\" + 0.047*\"movement\" + 0.047*\"aimed\" + 0.047*\"equal\" + 0.047*\"1960s\"')\n",
            "(4, '0.011*\"war\" + 0.011*\"states\" + 0.011*\"american\" + 0.011*\"britain\" + 0.011*\"united\"')\n",
            "(5, '0.011*\"states\" + 0.011*\"war\" + 0.011*\"united\" + 0.011*\"american\" + 0.011*\"great\"')\n",
            "(6, '0.047*\"tension\" + 0.047*\"1940s\" + 0.047*\"cold\" + 0.047*\"period\" + 0.047*\"1990s\"')\n",
            "(7, '0.063*\"states\" + 0.063*\"war\" + 0.043*\"place\" + 0.043*\"took\" + 0.043*\"depression\"')\n",
            "(8, '0.109*\"american\" + 0.057*\"revolutionary\" + 0.057*\"conflict\" + 0.057*\"colonies\" + 0.057*\"britain\"')\n"
          ]
        }
      ],
      "source": [
        " # Import and install necessary libraries\n",
        "!pip install gensim nltk\n",
        "import gensim\n",
        "import gensim.corpora as corpora\n",
        "from gensim.models import CoherenceModel\n",
        "from nltk.corpus import stopwords\n",
        "from nltk.tokenize import word_tokenize\n",
        "import numpy as np\n",
        "import nltk\n",
        "\n",
        "# Download stopwords and punkt\n",
        "nltk.download('stopwords')\n",
        "nltk.download('punkt')\n",
        "\n",
        "# Sample Data\n",
        "data = [\n",
        "    \"The American Revolutionary War was a conflict between the Thirteen American Colonies and Great Britain.\",\n",
        "    \"The Declaration of Independence was signed on July 4, 1776, marking the United States' independence from Britain.\",\n",
        "    \"The Civil War took place from 1861 to 1865, fought between the Northern states and the Southern Confederate states over issues like slavery.\",\n",
        "    \"The Civil Rights Movement in the 1960s aimed to end racial discrimination and secure equal rights for African Americans.\",\n",
        "    \"The Great Depression was a severe worldwide economic depression that took place mostly during the 1930s.\",\n",
        "    \"World War II involved the United States joining the Allies to fight against the Axis powers, with the war ending in 1945.\",\n",
        "    \"The Cold War was a period of tension between the United States and the Soviet Union, lasting from the late 1940s until the early 1990s.\",\n",
        "    \"The women's suffrage movement led to the 19th Amendment, granting American women the right to vote in 1920.\",\n",
        "    \"The Louisiana Purchase in 1803 doubled the size of the United States, acquired from France under President Thomas Jefferson.\",\n",
        "    \"The Industrial Revolution transformed the American economy from agrarian to industrial, leading to urbanization and new technologies.\"\n",
        "]\n",
        "\n",
        "# Preprocessing the Data\n",
        "stop_words = set(stopwords.words('english'))\n",
        "processed_data = [[word for word in word_tokenize(doc.lower()) if word.isalnum() and word not in stop_words]\n",
        "                  for doc in data]\n",
        "\n",
        "# Creating Dictionary and Corpus\n",
        "dictionary = corpora.Dictionary(processed_data)\n",
        "corpus = [dictionary.doc2bow(text) for text in processed_data]\n",
        "\n",
        "# Function to Calculate Coherence Scores for Different K\n",
        "def compute_coherence_values(dictionary, corpus, texts, limit, start=2, step=1):\n",
        "    coherence_values = []\n",
        "    list1 = []\n",
        "    for num_topics in range(start, limit, step):\n",
        "        model = gensim.models.LdaModel(corpus=corpus,\n",
        "                                       id2word=dictionary,\n",
        "                                       num_topics=num_topics,\n",
        "                                       random_state=100,\n",
        "                                       update_every=1,\n",
        "                                       chunksize=10,\n",
        "                                       passes=10,\n",
        "                                       alpha='auto',\n",
        "                                       per_word_topics=True)\n",
        "        list1.append(model)\n",
        "        coherence_model = CoherenceModel(model=model, texts=texts, dictionary=dictionary, coherence='c_v')\n",
        "        coherence_values.append(coherence_model.get_coherence())\n",
        "    return list1, coherence_values\n",
        "\n",
        "# Calculate Coherence for Different K\n",
        "list1, coherence_values = compute_coherence_values(dictionary=dictionary, corpus=corpus,\n",
        "                                                  texts=processed_data, start=2, limit=10, step=1)\n",
        "\n",
        "# Identify Optimal K\n",
        "optimal_index = np.argmax(coherence_values)\n",
        "optimal_model = list1[optimal_index]\n",
        "\n",
        "# Displaying output\n",
        "print(f\"Optimal Number of Topics: {optimal_index + 2}\")\n",
        "topics = optimal_model.print_topics(num_words=5)\n",
        "for topic in topics:\n",
        "    print(topic)\n"
      ]
    },
    {
      "cell_type": "markdown",
      "metadata": {
        "id": "dEUjBE6C70nf"
      },
      "source": [
        "## Question 2 (10 Points)\n",
        "\n",
        "**Generate K topics by using LSA, the number of topics K should be decided by the coherence score, then summarize what are the topics.**\n",
        "\n",
        "You may refer the code here: https://www.datacamp.com/community/tutorials/discovering-hidden-topics-python"
      ]
    },
    {
      "cell_type": "code",
      "execution_count": 17,
      "metadata": {
        "id": "EoQX5s4O70nf",
        "colab": {
          "base_uri": "https://localhost:8080/"
        },
        "outputId": "06c88563-274b-41bb-de44-488704406b01"
      },
      "outputs": [
        {
          "output_type": "stream",
          "name": "stderr",
          "text": [
            "/usr/local/lib/python3.10/dist-packages/ipykernel/ipkernel.py:283: DeprecationWarning: `should_run_async` will not call `transform_cell` automatically in the future. Please pass the result to `transformed_cell` argument and any exception that happen during thetransform in `preprocessing_exc_tuple` in IPython 7.17 and above.\n",
            "  and should_run_async(code)\n"
          ]
        },
        {
          "output_type": "stream",
          "name": "stdout",
          "text": [
            "Requirement already satisfied: nltk in /usr/local/lib/python3.10/dist-packages (3.8.1)\n",
            "Requirement already satisfied: scikit-learn in /usr/local/lib/python3.10/dist-packages (1.5.2)\n",
            "Requirement already satisfied: gensim in /usr/local/lib/python3.10/dist-packages (4.3.3)\n",
            "Requirement already satisfied: click in /usr/local/lib/python3.10/dist-packages (from nltk) (8.1.7)\n",
            "Requirement already satisfied: joblib in /usr/local/lib/python3.10/dist-packages (from nltk) (1.4.2)\n",
            "Requirement already satisfied: regex>=2021.8.3 in /usr/local/lib/python3.10/dist-packages (from nltk) (2024.9.11)\n",
            "Requirement already satisfied: tqdm in /usr/local/lib/python3.10/dist-packages (from nltk) (4.66.6)\n",
            "Requirement already satisfied: numpy>=1.19.5 in /usr/local/lib/python3.10/dist-packages (from scikit-learn) (1.26.4)\n",
            "Requirement already satisfied: scipy>=1.6.0 in /usr/local/lib/python3.10/dist-packages (from scikit-learn) (1.13.1)\n",
            "Requirement already satisfied: threadpoolctl>=3.1.0 in /usr/local/lib/python3.10/dist-packages (from scikit-learn) (3.5.0)\n",
            "Requirement already satisfied: smart-open>=1.8.1 in /usr/local/lib/python3.10/dist-packages (from gensim) (7.0.5)\n",
            "Requirement already satisfied: wrapt in /usr/local/lib/python3.10/dist-packages (from smart-open>=1.8.1->gensim) (1.16.0)\n"
          ]
        },
        {
          "output_type": "stream",
          "name": "stderr",
          "text": [
            "[nltk_data] Downloading package stopwords to /root/nltk_data...\n",
            "[nltk_data]   Package stopwords is already up-to-date!\n",
            "[nltk_data] Downloading package punkt to /root/nltk_data...\n",
            "[nltk_data]   Package punkt is already up-to-date!\n",
            "/usr/local/lib/python3.10/dist-packages/gensim/topic_coherence/direct_confirmation_measure.py:204: RuntimeWarning: divide by zero encountered in scalar divide\n",
            "  m_lr_i = np.log(numerator / denominator)\n",
            "/usr/local/lib/python3.10/dist-packages/gensim/topic_coherence/indirect_confirmation_measure.py:323: RuntimeWarning: invalid value encountered in scalar divide\n",
            "  return cv1.T.dot(cv2)[0, 0] / (_magnitude(cv1) * _magnitude(cv2))\n"
          ]
        },
        {
          "output_type": "stream",
          "name": "stdout",
          "text": [
            "Optimal Number of Topics for LSA: 2\n",
            "Topic 1:  ['took', 'place', 'united', 'war', 'states']\n",
            "Topic 2:  ['industrial', 'rights', 'movement', 'women', 'american']\n"
          ]
        }
      ],
      "source": [
        "# Import and install necessary libraries\n",
        "!pip install nltk scikit-learn gensim\n",
        "from sklearn.decomposition import TruncatedSVD\n",
        "from sklearn.feature_extraction.text import CountVectorizer\n",
        "from gensim.models import CoherenceModel\n",
        "import numpy as np\n",
        "import nltk\n",
        "from nltk.corpus import stopwords\n",
        "from nltk.tokenize import word_tokenize\n",
        "import gensim\n",
        "import gensim.corpora as corpora\n",
        "\n",
        "# Download stopwords and punkt\n",
        "nltk.download('stopwords')\n",
        "nltk.download('punkt')\n",
        "\n",
        "# Sample Data\n",
        "data = [\n",
        "    \"The American Revolutionary War was a conflict between the Thirteen American Colonies and Great Britain.\",\n",
        "    \"The Declaration of Independence was signed on July 4, 1776, marking the United States' independence from Britain.\",\n",
        "    \"The Civil War took place from 1861 to 1865, fought between the Northern states and the Southern Confederate states over issues like slavery.\",\n",
        "    \"The Civil Rights Movement in the 1960s aimed to end racial discrimination and secure equal rights for African Americans.\",\n",
        "    \"The Great Depression was a severe worldwide economic depression that took place mostly during the 1930s.\",\n",
        "    \"World War II involved the United States joining the Allies to fight against the Axis powers, with the war ending in 1945.\",\n",
        "    \"The Cold War was a period of tension between the United States and the Soviet Union, lasting from the late 1940s until the early 1990s.\",\n",
        "    \"The women's suffrage movement led to the 19th Amendment, granting American women the right to vote in 1920.\",\n",
        "    \"The Louisiana Purchase in 1803 doubled the size of the United States, acquired from France under President Thomas Jefferson.\",\n",
        "    \"The Industrial Revolution transformed the American economy from agrarian to industrial, leading to urbanization and new technologies.\"\n",
        "]\n",
        "\n",
        "# Text Preprocessing\n",
        "stop_words = set(stopwords.words('english'))\n",
        "data_processed = [' '.join([word for word in word_tokenize(doc.lower()) if word.isalnum() and word not in stop_words])\n",
        "                  for doc in data]\n",
        "\n",
        "# Count Vectorizer Transformation\n",
        "vectorizer = CountVectorizer(stop_words='english')\n",
        "data_vectorized = vectorizer.fit_transform(data_processed)\n",
        "terms = vectorizer.get_feature_names_out()\n",
        "\n",
        "# Finding Optimal K for LSA\n",
        "def compute_coherence_values_lsa(vectorized_data, terms, texts, limit, start=2, step=1):\n",
        "    coherence_values = []\n",
        "    list1 = []  # Changed to list1 for model list\n",
        "\n",
        "    for num_topics in range(start, limit, step):\n",
        "        # Train LSA Model\n",
        "        lsa_model = TruncatedSVD(n_components=num_topics, random_state=100)\n",
        "        lsa_model.fit(vectorized_data)\n",
        "        list1.append(lsa_model)\n",
        "\n",
        "        # Extract Topics\n",
        "        topics = [[terms[i] for i in lsa_model.components_[t].argsort()[-5:]] for t in range(num_topics)]\n",
        "\n",
        "        # Compute Coherence Score\n",
        "        coherence_model = CoherenceModel(topics=topics, texts=texts, dictionary=dictionary, coherence='c_v')  # Use dictionary instead of id2word\n",
        "        coherence_values.append(coherence_model.get_coherence())\n",
        "\n",
        "    return list1, coherence_values\n",
        "\n",
        "# Calculating Coherence Scores\n",
        "dictionary = corpora.Dictionary([doc.split() for doc in data_processed])  # Dictionary needed for coherence model\n",
        "list1, coherence_values = compute_coherence_values_lsa(data_vectorized, terms, data_processed, limit=10)\n",
        "\n",
        "# Optimal Model Selection\n",
        "optimal_index = np.argmax(coherence_values)\n",
        "optimal_model = list1[optimal_index]\n",
        "\n",
        "# Display Output\n",
        "print(f\"Optimal Number of Topics for LSA: {optimal_index + 2}\")\n",
        "for topic_idx, topic in enumerate(optimal_model.components_):\n",
        "    print(f\"Topic {topic_idx + 1}: \", [terms[i] for i in topic.argsort()[-5:]])\n"
      ]
    },
    {
      "cell_type": "markdown",
      "metadata": {
        "id": "7oSK4soH70nf"
      },
      "source": [
        "## Question 3 (10 points):\n",
        "**Generate K topics by using lda2vec, the number of topics K should be decided by the coherence score, then summarize what are the topics.**\n",
        "\n",
        "You may refer the code here: https://nbviewer.org/github/cemoody/lda2vec/blob/master/examples/twenty_newsgroups/lda2vec/lda2vec.ipynb"
      ]
    },
    {
      "cell_type": "code",
      "execution_count": 13,
      "metadata": {
        "id": "2CRuXfV570ng",
        "colab": {
          "base_uri": "https://localhost:8080/"
        },
        "outputId": "1aad8000-383a-4890-8652-2a0db088be89"
      },
      "outputs": [
        {
          "output_type": "stream",
          "name": "stderr",
          "text": [
            "/usr/local/lib/python3.10/dist-packages/ipykernel/ipkernel.py:283: DeprecationWarning: `should_run_async` will not call `transform_cell` automatically in the future. Please pass the result to `transformed_cell` argument and any exception that happen during thetransform in `preprocessing_exc_tuple` in IPython 7.17 and above.\n",
            "  and should_run_async(code)\n"
          ]
        }
      ],
      "source": []
    },
    {
      "cell_type": "markdown",
      "metadata": {
        "id": "7nZGAOwl70ng"
      },
      "source": [
        "## Question 4 (10 points):\n",
        "**Generate K topics by using BERTopic, the number of topics K should be decided by the coherence score, then summarize what are the topics.**\n",
        "\n",
        "You may refer the code here: https://colab.research.google.com/drive/1FieRA9fLdkQEGDIMYl0I3MCjSUKVF8C-?usp=sharing"
      ]
    },
    {
      "cell_type": "code",
      "execution_count": 9,
      "metadata": {
        "id": "b4HoWK-i70ng",
        "colab": {
          "base_uri": "https://localhost:8080/"
        },
        "outputId": "4aea507d-d652-4ad9-a677-0eac82f2f79a"
      },
      "outputs": [
        {
          "output_type": "stream",
          "name": "stdout",
          "text": [
            "Requirement already satisfied: bertopic in /usr/local/lib/python3.10/dist-packages (0.16.4)\n",
            "Requirement already satisfied: hdbscan>=0.8.29 in /usr/local/lib/python3.10/dist-packages (from bertopic) (0.8.39)\n",
            "Requirement already satisfied: numpy>=1.20.0 in /usr/local/lib/python3.10/dist-packages (from bertopic) (1.26.4)\n",
            "Requirement already satisfied: pandas>=1.1.5 in /usr/local/lib/python3.10/dist-packages (from bertopic) (2.2.2)\n",
            "Requirement already satisfied: plotly>=4.7.0 in /usr/local/lib/python3.10/dist-packages (from bertopic) (5.24.1)\n",
            "Requirement already satisfied: scikit-learn>=0.22.2.post1 in /usr/local/lib/python3.10/dist-packages (from bertopic) (1.5.2)\n",
            "Requirement already satisfied: sentence-transformers>=0.4.1 in /usr/local/lib/python3.10/dist-packages (from bertopic) (3.2.1)\n",
            "Requirement already satisfied: tqdm>=4.41.1 in /usr/local/lib/python3.10/dist-packages (from bertopic) (4.66.6)\n",
            "Requirement already satisfied: umap-learn>=0.5.0 in /usr/local/lib/python3.10/dist-packages (from bertopic) (0.5.7)\n",
            "Requirement already satisfied: scipy>=1.0 in /usr/local/lib/python3.10/dist-packages (from hdbscan>=0.8.29->bertopic) (1.13.1)\n",
            "Requirement already satisfied: joblib>=1.0 in /usr/local/lib/python3.10/dist-packages (from hdbscan>=0.8.29->bertopic) (1.4.2)\n",
            "Requirement already satisfied: python-dateutil>=2.8.2 in /usr/local/lib/python3.10/dist-packages (from pandas>=1.1.5->bertopic) (2.8.2)\n",
            "Requirement already satisfied: pytz>=2020.1 in /usr/local/lib/python3.10/dist-packages (from pandas>=1.1.5->bertopic) (2024.2)\n",
            "Requirement already satisfied: tzdata>=2022.7 in /usr/local/lib/python3.10/dist-packages (from pandas>=1.1.5->bertopic) (2024.2)\n",
            "Requirement already satisfied: tenacity>=6.2.0 in /usr/local/lib/python3.10/dist-packages (from plotly>=4.7.0->bertopic) (9.0.0)\n",
            "Requirement already satisfied: packaging in /usr/local/lib/python3.10/dist-packages (from plotly>=4.7.0->bertopic) (24.1)\n",
            "Requirement already satisfied: threadpoolctl>=3.1.0 in /usr/local/lib/python3.10/dist-packages (from scikit-learn>=0.22.2.post1->bertopic) (3.5.0)\n",
            "Requirement already satisfied: transformers<5.0.0,>=4.41.0 in /usr/local/lib/python3.10/dist-packages (from sentence-transformers>=0.4.1->bertopic) (4.44.2)\n",
            "Requirement already satisfied: torch>=1.11.0 in /usr/local/lib/python3.10/dist-packages (from sentence-transformers>=0.4.1->bertopic) (2.5.0+cu121)\n",
            "Requirement already satisfied: huggingface-hub>=0.20.0 in /usr/local/lib/python3.10/dist-packages (from sentence-transformers>=0.4.1->bertopic) (0.24.7)\n",
            "Requirement already satisfied: Pillow in /usr/local/lib/python3.10/dist-packages (from sentence-transformers>=0.4.1->bertopic) (10.4.0)\n",
            "Requirement already satisfied: numba>=0.51.2 in /usr/local/lib/python3.10/dist-packages (from umap-learn>=0.5.0->bertopic) (0.60.0)\n",
            "Requirement already satisfied: pynndescent>=0.5 in /usr/local/lib/python3.10/dist-packages (from umap-learn>=0.5.0->bertopic) (0.5.13)\n",
            "Requirement already satisfied: filelock in /usr/local/lib/python3.10/dist-packages (from huggingface-hub>=0.20.0->sentence-transformers>=0.4.1->bertopic) (3.16.1)\n",
            "Requirement already satisfied: fsspec>=2023.5.0 in /usr/local/lib/python3.10/dist-packages (from huggingface-hub>=0.20.0->sentence-transformers>=0.4.1->bertopic) (2024.10.0)\n",
            "Requirement already satisfied: pyyaml>=5.1 in /usr/local/lib/python3.10/dist-packages (from huggingface-hub>=0.20.0->sentence-transformers>=0.4.1->bertopic) (6.0.2)\n",
            "Requirement already satisfied: requests in /usr/local/lib/python3.10/dist-packages (from huggingface-hub>=0.20.0->sentence-transformers>=0.4.1->bertopic) (2.32.3)\n",
            "Requirement already satisfied: typing-extensions>=3.7.4.3 in /usr/local/lib/python3.10/dist-packages (from huggingface-hub>=0.20.0->sentence-transformers>=0.4.1->bertopic) (4.12.2)\n",
            "Requirement already satisfied: llvmlite<0.44,>=0.43.0dev0 in /usr/local/lib/python3.10/dist-packages (from numba>=0.51.2->umap-learn>=0.5.0->bertopic) (0.43.0)\n",
            "Requirement already satisfied: six>=1.5 in /usr/local/lib/python3.10/dist-packages (from python-dateutil>=2.8.2->pandas>=1.1.5->bertopic) (1.16.0)\n",
            "Requirement already satisfied: networkx in /usr/local/lib/python3.10/dist-packages (from torch>=1.11.0->sentence-transformers>=0.4.1->bertopic) (3.4.2)\n",
            "Requirement already satisfied: jinja2 in /usr/local/lib/python3.10/dist-packages (from torch>=1.11.0->sentence-transformers>=0.4.1->bertopic) (3.1.4)\n",
            "Requirement already satisfied: sympy==1.13.1 in /usr/local/lib/python3.10/dist-packages (from torch>=1.11.0->sentence-transformers>=0.4.1->bertopic) (1.13.1)\n",
            "Requirement already satisfied: mpmath<1.4,>=1.1.0 in /usr/local/lib/python3.10/dist-packages (from sympy==1.13.1->torch>=1.11.0->sentence-transformers>=0.4.1->bertopic) (1.3.0)\n",
            "Requirement already satisfied: regex!=2019.12.17 in /usr/local/lib/python3.10/dist-packages (from transformers<5.0.0,>=4.41.0->sentence-transformers>=0.4.1->bertopic) (2024.9.11)\n",
            "Requirement already satisfied: safetensors>=0.4.1 in /usr/local/lib/python3.10/dist-packages (from transformers<5.0.0,>=4.41.0->sentence-transformers>=0.4.1->bertopic) (0.4.5)\n",
            "Requirement already satisfied: tokenizers<0.20,>=0.19 in /usr/local/lib/python3.10/dist-packages (from transformers<5.0.0,>=4.41.0->sentence-transformers>=0.4.1->bertopic) (0.19.1)\n",
            "Requirement already satisfied: MarkupSafe>=2.0 in /usr/local/lib/python3.10/dist-packages (from jinja2->torch>=1.11.0->sentence-transformers>=0.4.1->bertopic) (3.0.2)\n",
            "Requirement already satisfied: charset-normalizer<4,>=2 in /usr/local/lib/python3.10/dist-packages (from requests->huggingface-hub>=0.20.0->sentence-transformers>=0.4.1->bertopic) (3.4.0)\n",
            "Requirement already satisfied: idna<4,>=2.5 in /usr/local/lib/python3.10/dist-packages (from requests->huggingface-hub>=0.20.0->sentence-transformers>=0.4.1->bertopic) (3.10)\n",
            "Requirement already satisfied: urllib3<3,>=1.21.1 in /usr/local/lib/python3.10/dist-packages (from requests->huggingface-hub>=0.20.0->sentence-transformers>=0.4.1->bertopic) (2.2.3)\n",
            "Requirement already satisfied: certifi>=2017.4.17 in /usr/local/lib/python3.10/dist-packages (from requests->huggingface-hub>=0.20.0->sentence-transformers>=0.4.1->bertopic) (2024.8.30)\n",
            "Requirement already satisfied: sentence-transformers in /usr/local/lib/python3.10/dist-packages (3.2.1)\n",
            "Requirement already satisfied: transformers<5.0.0,>=4.41.0 in /usr/local/lib/python3.10/dist-packages (from sentence-transformers) (4.44.2)\n",
            "Requirement already satisfied: tqdm in /usr/local/lib/python3.10/dist-packages (from sentence-transformers) (4.66.6)\n",
            "Requirement already satisfied: torch>=1.11.0 in /usr/local/lib/python3.10/dist-packages (from sentence-transformers) (2.5.0+cu121)\n",
            "Requirement already satisfied: scikit-learn in /usr/local/lib/python3.10/dist-packages (from sentence-transformers) (1.5.2)\n",
            "Requirement already satisfied: scipy in /usr/local/lib/python3.10/dist-packages (from sentence-transformers) (1.13.1)\n",
            "Requirement already satisfied: huggingface-hub>=0.20.0 in /usr/local/lib/python3.10/dist-packages (from sentence-transformers) (0.24.7)\n",
            "Requirement already satisfied: Pillow in /usr/local/lib/python3.10/dist-packages (from sentence-transformers) (10.4.0)\n",
            "Requirement already satisfied: filelock in /usr/local/lib/python3.10/dist-packages (from huggingface-hub>=0.20.0->sentence-transformers) (3.16.1)\n",
            "Requirement already satisfied: fsspec>=2023.5.0 in /usr/local/lib/python3.10/dist-packages (from huggingface-hub>=0.20.0->sentence-transformers) (2024.10.0)\n",
            "Requirement already satisfied: packaging>=20.9 in /usr/local/lib/python3.10/dist-packages (from huggingface-hub>=0.20.0->sentence-transformers) (24.1)\n",
            "Requirement already satisfied: pyyaml>=5.1 in /usr/local/lib/python3.10/dist-packages (from huggingface-hub>=0.20.0->sentence-transformers) (6.0.2)\n",
            "Requirement already satisfied: requests in /usr/local/lib/python3.10/dist-packages (from huggingface-hub>=0.20.0->sentence-transformers) (2.32.3)\n",
            "Requirement already satisfied: typing-extensions>=3.7.4.3 in /usr/local/lib/python3.10/dist-packages (from huggingface-hub>=0.20.0->sentence-transformers) (4.12.2)\n",
            "Requirement already satisfied: networkx in /usr/local/lib/python3.10/dist-packages (from torch>=1.11.0->sentence-transformers) (3.4.2)\n",
            "Requirement already satisfied: jinja2 in /usr/local/lib/python3.10/dist-packages (from torch>=1.11.0->sentence-transformers) (3.1.4)\n",
            "Requirement already satisfied: sympy==1.13.1 in /usr/local/lib/python3.10/dist-packages (from torch>=1.11.0->sentence-transformers) (1.13.1)\n",
            "Requirement already satisfied: mpmath<1.4,>=1.1.0 in /usr/local/lib/python3.10/dist-packages (from sympy==1.13.1->torch>=1.11.0->sentence-transformers) (1.3.0)\n",
            "Requirement already satisfied: numpy>=1.17 in /usr/local/lib/python3.10/dist-packages (from transformers<5.0.0,>=4.41.0->sentence-transformers) (1.26.4)\n",
            "Requirement already satisfied: regex!=2019.12.17 in /usr/local/lib/python3.10/dist-packages (from transformers<5.0.0,>=4.41.0->sentence-transformers) (2024.9.11)\n",
            "Requirement already satisfied: safetensors>=0.4.1 in /usr/local/lib/python3.10/dist-packages (from transformers<5.0.0,>=4.41.0->sentence-transformers) (0.4.5)\n",
            "Requirement already satisfied: tokenizers<0.20,>=0.19 in /usr/local/lib/python3.10/dist-packages (from transformers<5.0.0,>=4.41.0->sentence-transformers) (0.19.1)\n",
            "Requirement already satisfied: joblib>=1.2.0 in /usr/local/lib/python3.10/dist-packages (from scikit-learn->sentence-transformers) (1.4.2)\n",
            "Requirement already satisfied: threadpoolctl>=3.1.0 in /usr/local/lib/python3.10/dist-packages (from scikit-learn->sentence-transformers) (3.5.0)\n",
            "Requirement already satisfied: MarkupSafe>=2.0 in /usr/local/lib/python3.10/dist-packages (from jinja2->torch>=1.11.0->sentence-transformers) (3.0.2)\n",
            "Requirement already satisfied: charset-normalizer<4,>=2 in /usr/local/lib/python3.10/dist-packages (from requests->huggingface-hub>=0.20.0->sentence-transformers) (3.4.0)\n",
            "Requirement already satisfied: idna<4,>=2.5 in /usr/local/lib/python3.10/dist-packages (from requests->huggingface-hub>=0.20.0->sentence-transformers) (3.10)\n",
            "Requirement already satisfied: urllib3<3,>=1.21.1 in /usr/local/lib/python3.10/dist-packages (from requests->huggingface-hub>=0.20.0->sentence-transformers) (2.2.3)\n",
            "Requirement already satisfied: certifi>=2017.4.17 in /usr/local/lib/python3.10/dist-packages (from requests->huggingface-hub>=0.20.0->sentence-transformers) (2024.8.30)\n"
          ]
        },
        {
          "output_type": "stream",
          "name": "stderr",
          "text": [
            "[nltk_data] Downloading package stopwords to /root/nltk_data...\n",
            "[nltk_data]   Package stopwords is already up-to-date!\n",
            "[nltk_data] Downloading package punkt to /root/nltk_data...\n",
            "[nltk_data]   Package punkt is already up-to-date!\n"
          ]
        },
        {
          "output_type": "stream",
          "name": "stdout",
          "text": [
            "Topic Information:\n",
            "    Topic  Count                   Name  \\\n",
            "0     -1     10  -1_the_to_states_from   \n",
            "\n",
            "                                      Representation  \\\n",
            "0  [the, to, states, from, war, and, united, amer...   \n",
            "\n",
            "                                 Representative_Docs  \n",
            "0  [World War II involved the United States joini...  \n",
            "Insufficient unique topics for visualization.\n"
          ]
        }
      ],
      "source": [
        "#import and install Required Libraries\n",
        "!pip install bertopic\n",
        "!pip install sentence-transformers\n",
        "from bertopic import BERTopic\n",
        "import nltk\n",
        "from nltk.corpus import stopwords\n",
        "from nltk.tokenize import word_tokenize\n",
        "\n",
        "#Download NLTK Stopwords\n",
        "nltk.download('stopwords')\n",
        "nltk.download('punkt')\n",
        "\n",
        "#Sample Data\n",
        "data = [\n",
        "    \"The American Revolutionary War was a conflict between the Thirteen American Colonies and Great Britain.\",\n",
        "    \"The Declaration of Independence was signed on July 4, 1776, marking the United States' independence from Britain.\",\n",
        "    \"The Civil War took place from 1861 to 1865, fought between the Northern states and the Southern Confederate states over issues like slavery.\",\n",
        "    \"The Civil Rights Movement in the 1960s aimed to end racial discrimination and secure equal rights for African Americans.\",\n",
        "    \"The Great Depression was a severe worldwide economic depression that took place mostly during the 1930s.\",\n",
        "    \"World War II involved the United States joining the Allies to fight against the Axis powers, with the war ending in 1945.\",\n",
        "    \"The Cold War was a period of tension between the United States and the Soviet Union, lasting from the late 1940s until the early 1990s.\",\n",
        "    \"The women's suffrage movement led to the 19th Amendment, granting American women the right to vote in 1920.\",\n",
        "    \"The Louisiana Purchase in 1803 doubled the size of the United States, acquired from France under President Thomas Jefferson.\",\n",
        "    \"The Industrial Revolution transformed the American economy from agrarian to industrial, leading to urbanization and new technologies.\"\n",
        "]\n",
        "\n",
        "# Initialize BERTopic Model\n",
        "topic_model = BERTopic()\n",
        "\n",
        "#Fit the BERTopic Model to the Data\n",
        "topics, _ = topic_model.fit_transform(data)\n",
        "\n",
        "# Step 7: Display Topics\n",
        "topic_info = topic_model.get_topic_info()\n",
        "print(\"Topic Information:\\n\", topic_info)\n",
        "\n",
        "# Step 8: Visualize Topics with Custom Parameters\n",
        "# Use top_n_topics to limit the visualization to avoid errors due to insufficient topics\n",
        "num_topics = len(topic_info)\n",
        "if num_topics > 1:\n",
        "    topic_model.visualize_topics(top_n_topics=num_topics)\n",
        "else:\n",
        "    print(\"Insufficient unique topics for visualization.\")\n"
      ]
    },
    {
      "cell_type": "markdown",
      "source": [
        "## **Question 3 (Alternative) - (10 points)**\n",
        "\n",
        "If you are unable to do the topic modeling using lda2vec, do the alternate question.\n",
        "\n",
        "Provide atleast 3 visualization for the topics generated by the BERTopic or LDA model. Explain each of the visualization in detail."
      ],
      "metadata": {
        "id": "Wslk2SYHML8t"
      }
    },
    {
      "cell_type": "code",
      "source": [
        "#import and install Required Libraries\n",
        "!pip install gensim pyLDAvis\n",
        "import pandas as pd\n",
        "import nltk\n",
        "from nltk.corpus import stopwords\n",
        "from gensim import corpora\n",
        "from gensim.models import LdaModel\n",
        "import pyLDAvis\n",
        "import pyLDAvis.gensim_models\n",
        "\n",
        "# Download NLTK Stopwords\n",
        "nltk.download('stopwords')\n",
        "\n",
        "# Sample Data\n",
        "data = [\n",
        "    \"The American Revolutionary War was a conflict between the Thirteen American Colonies and Great Britain.\",\n",
        "    \"The Declaration of Independence was signed on July 4, 1776, marking the United States' independence from Britain.\",\n",
        "    \"The Civil War took place from 1861 to 1865, fought between the Northern states and the Southern Confederate states over issues like slavery.\",\n",
        "    \"The Civil Rights Movement in the 1960s aimed to end racial discrimination and secure equal rights for African Americans.\",\n",
        "    \"The Great Depression was a severe worldwide economic depression that took place mostly during the 1930s.\",\n",
        "    \"World War II involved the United States joining the Allies to fight against the Axis powers, with the war ending in 1945.\",\n",
        "    \"The Cold War was a period of tension between the United States and the Soviet Union, lasting from the late 1940s until the early 1990s.\",\n",
        "    \"The women's suffrage movement led to the 19th Amendment, granting American women the right to vote in 1920.\",\n",
        "    \"The Louisiana Purchase in 1803 doubled the size of the United States, acquired from France under President Thomas Jefferson.\",\n",
        "    \"The Industrial Revolution transformed the American economy from agrarian to industrial, leading to urbanization and new technologies.\"\n",
        "]\n",
        "\n",
        "# Preprocess the Data\n",
        "stop_words = stopwords.words('english')\n",
        "texts = [[word for word in doc.lower().split() if word not in stop_words] for doc in data]\n",
        "\n",
        "# Create Dictionary and Corpus\n",
        "dictionary = corpora.Dictionary(texts)\n",
        "corpus = [dictionary.doc2bow(text) for text in texts]\n",
        "\n",
        "# Build LDA Model\n",
        "lda_model = LdaModel(corpus, num_topics=3, id2word=dictionary, passes=10)\n",
        "\n",
        "# Print the Topics\n",
        "for idx, topic in lda_model.print_topics(-1):\n",
        "    print(f\"Topic {idx}: {topic}\")\n",
        "\n",
        "# Visualize the Topics with pyLDAvis\n",
        "pyLDAvis.enable_notebook()\n",
        "visualization = pyLDAvis.gensim_models.prepare(lda_model, corpus, dictionary)\n",
        "pyLDAvis.display(visualization)\n",
        "\n",
        "# Visualize Document Topic Distribution\n",
        "import matplotlib.pyplot as plt\n",
        "\n",
        "# Get the topic distribution for each document\n",
        "topic_distribution = [lda_model.get_document_topics(bow) for bow in corpus]\n",
        "\n",
        "# Creat a DataFrame for better visualization\n",
        "dataframe = pd.DataFrame([[doc_idx] + [topic[1] for topic in lda_model.get_document_topics(bow)] for doc_idx, bow in enumerate(corpus)],\n",
        "                  columns=[\"Document\"] + [f\"Topic {i}\" for i in range(lda_model.num_topics)])\n",
        "\n",
        "# Plot the topic distribution\n",
        "dataframe.iloc[0, 1:].plot(kind='bar', title='Topic Distribution for Document 0')\n",
        "plt.ylabel('Topic Proportion')\n",
        "plt.xlabel('Topics')\n",
        "plt.xticks(rotation=0)\n",
        "plt.show()\n"
      ],
      "metadata": {
        "id": "eKZHcPjpNEDx",
        "colab": {
          "base_uri": "https://localhost:8080/",
          "height": 920
        },
        "outputId": "a358a9e1-6e22-4867-e8fa-eb08b09ea268"
      },
      "execution_count": 18,
      "outputs": [
        {
          "output_type": "stream",
          "name": "stderr",
          "text": [
            "/usr/local/lib/python3.10/dist-packages/ipykernel/ipkernel.py:283: DeprecationWarning: `should_run_async` will not call `transform_cell` automatically in the future. Please pass the result to `transformed_cell` argument and any exception that happen during thetransform in `preprocessing_exc_tuple` in IPython 7.17 and above.\n",
            "  and should_run_async(code)\n"
          ]
        },
        {
          "output_type": "stream",
          "name": "stdout",
          "text": [
            "Requirement already satisfied: gensim in /usr/local/lib/python3.10/dist-packages (4.3.3)\n",
            "Requirement already satisfied: pyLDAvis in /usr/local/lib/python3.10/dist-packages (3.4.1)\n",
            "Requirement already satisfied: numpy<2.0,>=1.18.5 in /usr/local/lib/python3.10/dist-packages (from gensim) (1.26.4)\n",
            "Requirement already satisfied: scipy<1.14.0,>=1.7.0 in /usr/local/lib/python3.10/dist-packages (from gensim) (1.13.1)\n",
            "Requirement already satisfied: smart-open>=1.8.1 in /usr/local/lib/python3.10/dist-packages (from gensim) (7.0.5)\n",
            "Requirement already satisfied: pandas>=2.0.0 in /usr/local/lib/python3.10/dist-packages (from pyLDAvis) (2.2.2)\n",
            "Requirement already satisfied: joblib>=1.2.0 in /usr/local/lib/python3.10/dist-packages (from pyLDAvis) (1.4.2)\n",
            "Requirement already satisfied: jinja2 in /usr/local/lib/python3.10/dist-packages (from pyLDAvis) (3.1.4)\n",
            "Requirement already satisfied: numexpr in /usr/local/lib/python3.10/dist-packages (from pyLDAvis) (2.10.1)\n",
            "Requirement already satisfied: funcy in /usr/local/lib/python3.10/dist-packages (from pyLDAvis) (2.0)\n",
            "Requirement already satisfied: scikit-learn>=1.0.0 in /usr/local/lib/python3.10/dist-packages (from pyLDAvis) (1.5.2)\n",
            "Requirement already satisfied: setuptools in /usr/local/lib/python3.10/dist-packages (from pyLDAvis) (75.1.0)\n",
            "Requirement already satisfied: python-dateutil>=2.8.2 in /usr/local/lib/python3.10/dist-packages (from pandas>=2.0.0->pyLDAvis) (2.8.2)\n",
            "Requirement already satisfied: pytz>=2020.1 in /usr/local/lib/python3.10/dist-packages (from pandas>=2.0.0->pyLDAvis) (2024.2)\n",
            "Requirement already satisfied: tzdata>=2022.7 in /usr/local/lib/python3.10/dist-packages (from pandas>=2.0.0->pyLDAvis) (2024.2)\n",
            "Requirement already satisfied: threadpoolctl>=3.1.0 in /usr/local/lib/python3.10/dist-packages (from scikit-learn>=1.0.0->pyLDAvis) (3.5.0)\n",
            "Requirement already satisfied: wrapt in /usr/local/lib/python3.10/dist-packages (from smart-open>=1.8.1->gensim) (1.16.0)\n",
            "Requirement already satisfied: MarkupSafe>=2.0 in /usr/local/lib/python3.10/dist-packages (from jinja2->pyLDAvis) (3.0.2)\n",
            "Requirement already satisfied: six>=1.5 in /usr/local/lib/python3.10/dist-packages (from python-dateutil>=2.8.2->pandas>=2.0.0->pyLDAvis) (1.16.0)\n",
            "Topic 0: 0.028*\"states\" + 0.028*\"rights\" + 0.028*\"civil\" + 0.028*\"independence\" + 0.016*\"african\" + 0.016*\"secure\" + 0.016*\"racial\" + 0.016*\"aimed\" + 0.016*\"equal\" + 0.016*\"fought\"\n",
            "Topic 1: 0.034*\"united\" + 0.019*\"movement\" + 0.019*\"acquired\" + 0.019*\"france\" + 0.019*\"doubled\" + 0.019*\"purchase\" + 0.019*\"size\" + 0.019*\"louisiana\" + 0.019*\"president\" + 0.019*\"lasting\"\n",
            "Topic 2: 0.051*\"war\" + 0.036*\"american\" + 0.035*\"depression\" + 0.035*\"great\" + 0.020*\"britain.\" + 0.020*\"took\" + 0.020*\"place\" + 0.020*\"united\" + 0.020*\"states\" + 0.020*\"fight\"\n"
          ]
        },
        {
          "output_type": "stream",
          "name": "stderr",
          "text": [
            "[nltk_data] Downloading package stopwords to /root/nltk_data...\n",
            "[nltk_data]   Package stopwords is already up-to-date!\n"
          ]
        },
        {
          "output_type": "display_data",
          "data": {
            "text/plain": [
              "<Figure size 640x480 with 1 Axes>"
            ],
            "image/png": "[encoded data removed]"
          },
          "metadata": {}
        }
      ]
    },
    {
      "cell_type": "markdown",
      "source": [
        "1. **LDA Model Topics Visualization**\n",
        "**Purpose:** This section of the code displays the topics generated by the LDA model, along with the words that are most important to each subject.\n",
        "\n",
        " **Interpretation:** Each topic is represented as a list of words with weights assigned. Words with higher weights have a stronger connection to the subject. This helps us understand the major points of each topic and can assist us when we study or classify them further.\n",
        "\n",
        "\n",
        "---\n",
        "\n",
        "\n",
        "2. **PyLDAvis visualization**\n",
        "**Purpose**: This interactive display created by pyLDAvis allows users to explore themes from the LDA model.\n",
        "\n",
        "**Interpretation**: The display depicts subjects in a 2D space, with the spacing between circles (topics) representing how similar they are. The size of each circle corresponds to the proportion of documents related to that topic. Users can move their mouse over topics to see the most relevant terms and how they relate to one another, allowing them to better comprehend what the model produced.\n",
        "\n",
        "\n",
        "---\n",
        "\n",
        "\n",
        "\n",
        "3. **Document Topic Distribution Visualization**\n",
        "**Purpose**: This bar chart depicts how subjects are distributed throughout a specific document (in this case, Document 0).\n",
        "\n",
        "**Interpretation**: Each bar represents a topic's share of the document. The bar's height indicates how common that topic is in the text. This visual assistance assists in determining which subjects are most significant in the document and can provide insights into the content of individual publications."
      ],
      "metadata": {
        "id": "pq-C-W-q6BDA"
      }
    },
    {
      "cell_type": "markdown",
      "source": [
        "## Extra Question (5 Points)\n",
        "\n",
        "**Compare the results generated by the four topic modeling algorithms, which one is better? You should explain the reasons in details.**\n",
        "\n",
        "**This question will compensate for any points deducted in this exercise. Maximum marks for the exercise is 40 points.**"
      ],
      "metadata": {
        "id": "d89ODUx3jjJV"
      }
    },
    {
      "cell_type": "markdown",
      "source": [
        "**LDA (Latent Dirichlet Allocation)**\n",
        "\n",
        "**Strengths:** It provides straightforward and understandable themes. It works effectively for identifying diverse themes in large amounts of data.\n",
        "\n",
        "**Weaknesses:** You must specify how many themes you want ahead of time, which may affect what you receive.\n",
        "\n",
        "---\n",
        "\n",
        "\n",
        "\n",
        "**LSA (Latent Semantic Analysis)**\n",
        "\n",
        "\n",
        "\n",
        "\n",
        "**Strengths**: It excels at recognizing large picture connections and dealing with words that signify the same thing.\n",
        "\n",
        "**Weaknesses**: The concepts it introduces are more difficult to grasp. It struggles with dispersed data, which means it's less effective at discovering detailed details about history.\n",
        "\n",
        "---\n",
        "**BERTopic**\n",
        "\n",
        "**Strengths**: It creates meaningful themes and provides excellent tools for demonstrating them. It employs specialized computer language models to capture nuanced concepts effectively.\n",
        "\n",
        "**Weaknesses**: It requires more computer power and resources to operate.\n",
        "\n",
        "\n",
        "---\n",
        "I Think BERTopic takes the top spot when you need to whip up detailed, context-fitting topics from bunches of data, all thanks to its awesome grasp of meaning and killer graphics skills. On the flip side, you’ve got LDA being the go-to for easy peasy understanding and no-fuss use, whereas LSA has a knack for zooming out for the big picture even though it might slip on the little details. When it boils right down to it picking the champ hinges on what you’re looking to dig into, like how easy you need things to be how beefy your computer setup is, and the kind of data you're tossing around.\n",
        "\n"
      ],
      "metadata": {
        "id": "dLnbvRZm9h54"
      }
    },
    {
      "cell_type": "markdown",
      "source": [
        "# Mandatory Question"
      ],
      "metadata": {
        "id": "VEs-OoDEhTW4"
      }
    },
    {
      "cell_type": "markdown",
      "source": [
        "**Important: Reflective Feedback on this exercise**\n",
        "\n",
        "Please provide your thoughts and feedback on the exercises you completed in this assignment.\n",
        "\n",
        "Consider the following points in your response:\n",
        "\n",
        "**Learning Experience:** Describe your overall learning experience in working with text data and extracting features using various topic modeling algorithms. Did you understand these algorithms and did the implementations helped in grasping the nuances of feature extraction from text data.\n",
        "\n",
        "**Challenges Encountered:** Were there specific difficulties in completing this exercise?\n",
        "\n",
        "Relevance to Your Field of Study: How does this exercise relate to the field of NLP?\n",
        "\n",
        "**(Your submission will not be graded if this question is left unanswered)**\n",
        "\n"
      ],
      "metadata": {
        "id": "IUKC7suYhVl0"
      }
    },
    {
      "cell_type": "code",
      "source": [
        "# Your answer here (no code for this question, write down your answer as detail as possible for the above questions):\n",
        "\n",
        "'''\n",
        "Working with topic modeling methods like as LDA, LSA, and BERTopic really improved my understanding of feature extraction from text data.\n",
        "The hands-on experience helped me understand their capabilities and applications, although I had difficulty setting hyperparameters and\n",
        "debugging errors, notably with BERTopic's visualization. This exercise is extremely relevant to NLP because topic modeling is critical for\n",
        "extracting insights from unstructured text. The abilities I learned will be useful in applications such as sentiment analysis and document\n",
        "classification, reinforcing my foundational knowledge for additional studies in the discipline.\n",
        "'''"
      ],
      "metadata": {
        "id": "CAq0DZWAhU9m"
      },
      "execution_count": null,
      "outputs": []
    }
  ],
  "metadata": {
    "kernelspec": {
      "display_name": "Python 3 (ipykernel)",
      "language": "python",
      "name": "python3"
    },
    "language_info": {
      "codemirror_mode": {
        "name": "ipython",
        "version": 3
      },
      "file_extension": ".py",
      "mimetype": "text/x-python",
      "name": "python",
      "nbconvert_exporter": "python",
      "pygments_lexer": "ipython3",
      "version": "3.9.12"
    },
    "colab": {
      "provenance": [],
      "toc_visible": true,
      "include_colab_link": true
    }
  },
  "nbformat": 4,
  "nbformat_minor": 0
}