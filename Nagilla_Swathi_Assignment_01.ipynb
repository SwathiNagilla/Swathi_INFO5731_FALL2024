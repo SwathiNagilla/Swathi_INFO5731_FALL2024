{
  "cells": [
    {
      "cell_type": "markdown",
      "metadata": {
        "id": "view-in-github",
        "colab_type": "text"
      },
      "source": [
        "<a href=\"https://colab.research.google.com/github/SwathiNagilla/Swathi_INFO5731_FALL2024/blob/main/Nagilla_Swathi_Assignment_01.ipynb\" target=\"_parent\"><img src=\"https://colab.research.google.com/assets/colab-badge.svg\" alt=\"Open In Colab\"/></a>"
      ]
    },
    {
      "cell_type": "markdown",
      "metadata": {
        "id": "Ryk8D1Q4Wsrp"
      },
      "source": [
        "# **INFO5731 Assignment One**"
      ]
    },
    {
      "cell_type": "markdown",
      "source": [
        "This assignment includes range of programming tasks and data analysis exercises, aiming to enhance your Python skills and proficiency in string manipulation, numerical computations, and data science. Follow the instructions carefully and design well-structured Python programs to address each question.\n",
        "\n",
        "Late Submission will have a penalty of 10% reduction for each day after the deadline."
      ],
      "metadata": {
        "id": "qcP6re2g5A5r"
      }
    },
    {
      "cell_type": "markdown",
      "metadata": {
        "id": "JkzR8cFAyGik"
      },
      "source": [
        "# Question 1 (10 points).\n",
        "\n",
        "The formula that describes the volume V of a hemisphere with radius r is the following:\n",
        "\n",
        "$ V=\\frac{2}{3}\\ast\\ \\pi\\ast\\ r^3 $\n",
        "\n",
        "Write a program to calculate the value of V when r is in the range of even numbers from 1-20. Output the result in the following format:\n",
        "\n",
        "\tr\tV\n",
        "\t2\t…\n",
        "\t4\t…\n",
        "\t6\t…\n",
        "\t.\n",
        "\t.\n",
        "\t.\n",
        "\t20\t…\n"
      ]
    },
    {
      "cell_type": "code",
      "execution_count": null,
      "metadata": {
        "id": "jDyTKYs-yGit",
        "colab": {
          "base_uri": "https://localhost:8080/"
        },
        "outputId": "47e3d871-1cc9-4ce0-f2c9-935cb10c2e5d"
      },
      "outputs": [
        {
          "output_type": "stream",
          "name": "stdout",
          "text": [
            "r\tV\n",
            "2 \t 16.746666666666666\n",
            "4 \t 133.97333333333333\n",
            "6 \t 452.15999999999997\n",
            "8 \t 1071.7866666666666\n",
            "10 \t 2093.3333333333335\n",
            "12 \t 3617.2799999999997\n",
            "14 \t 5744.106666666667\n",
            "16 \t 8574.293333333333\n",
            "18 \t 12208.32\n",
            "20 \t 16746.666666666668\n"
          ]
        }
      ],
      "source": [
        "#creating the function with an arugument of radius\n",
        "def volume_of_hemisphere(r):\n",
        "  #formula for volume of hemisphere\n",
        "  volume = (2/3)*3.14*(r**3)\n",
        "  #returning the volume\n",
        "  return volume\n",
        "\n",
        "print('r\\tV')\n",
        "#taking the for loop which starts at 2 and ends at 20 with an itteration of 2\n",
        "for i in range(2,21,2):\n",
        "  print(i,'\\t',volume_of_hemisphere(i))\n"
      ]
    },
    {
      "cell_type": "markdown",
      "metadata": {
        "id": "90_NR8c5XGWc"
      },
      "source": [
        "# Question 2 (20 points)\n",
        "\n",
        "(a) Write a Python program to generate a sequence of 12 random numbers falling within the range of 50 to 150.\n",
        "\n",
        "(b) Arrange the generated numbers in ascending order. Display the sorted list.\n",
        "\n",
        "(c) Extend the program to arrange the numbers in descending order as well. Present the sorted list accordingly.\n",
        "\n",
        "(d) Compute and output the average of the entire group of generated numbers.\n",
        "\n",
        "(e) Enhance the program to calculate and display the average of the first 6 numbers from both the ascending and descending sorted lists."
      ]
    },
    {
      "cell_type": "code",
      "execution_count": null,
      "metadata": {
        "id": "5QX6bJjGWXY9",
        "colab": {
          "base_uri": "https://localhost:8080/"
        },
        "outputId": "3f07c9c9-6384-4e66-a859-87bafd341fbc"
      },
      "outputs": [
        {
          "output_type": "stream",
          "name": "stdout",
          "text": [
            "12 random numbers :  [121, 118, 59, 55, 101, 70, 88, 126, 116, 87, 82, 107]\n",
            "Ascending order of the random numbers:  [55, 59, 70, 82, 87, 88, 101, 107, 116, 118, 121, 126]\n",
            "Descending order of the random numbers:  [126, 121, 118, 116, 107, 101, 88, 87, 82, 70, 59, 55]\n",
            "Average of the all the random numbers:  94.16666666666667\n",
            "Average of first 6 numbers from ascending sorted list:  73.5\n",
            "Average of first 6 numbers from descending sorted list:  114.83333333333333\n"
          ]
        }
      ],
      "source": [
        "\n",
        "import random\n",
        "#creating a list of 12 random numbers\n",
        "random_numbers = random.sample(range(50,151),12)\n",
        "print(\"12 random numbers : \",random_numbers)\n",
        "#sorting the list in ascending order using sort function\n",
        "random_numbers.sort()\n",
        "print(\"Ascending order of the random numbers: \",random_numbers)\n",
        "#sorting the list in descending order\n",
        "random_numbers.sort(reverse=True)\n",
        "print(\"Descending order of the random numbers: \",random_numbers)\n",
        "#average of entire list\n",
        "average = sum(random_numbers)/len(random_numbers)\n",
        "print(\"Average of the all the random numbers: \",average)\n",
        "#Calculating the average of 2 equal parts of the list\n",
        "for i in range(0,12):\n",
        "  #calculating the average of first 6 num from descending sorted list\n",
        "  average_of_descending_numbers = sum(random_numbers[0:6])/len(random_numbers[0:6])\n",
        "  #calculating the average of last 6 numbers from descending sorted list which is equivalent to first 6 numbers of ascending sorted list\n",
        "  average_of_ascending_numbers = sum(random_numbers[6:12])/len(random_numbers[6:12])\n",
        "print(\"Average of first 6 numbers from ascending sorted list: \",average_of_ascending_numbers)\n",
        "print(\"Average of first 6 numbers from descending sorted list: \",average_of_descending_numbers)\n",
        "\n"
      ]
    },
    {
      "cell_type": "markdown",
      "metadata": {
        "id": "1F_PZdH9Sh49"
      },
      "source": [
        "# Question 3 (20 points).\n",
        "\n",
        "Create a Python program that encompasses various string manipulation task:\n",
        "\n",
        "(a) Prompt the user to input two sentences.\n",
        "\n",
        "(b) Transform each sentence into a list, where each element corresponds to a word in the sentence. For example, if the sentences are \"Hello, how are you doing today?\" and \"This is an example sentence for the program!\"\n",
        "\n",
        "The program should output:\n",
        "['Hello', ',', 'how', 'are', 'you', 'doing', 'today', '?', 'This', 'is', 'an', 'example', 'sentence', 'for', 'the', 'program', '!']\n",
        "\n",
        "(c) Compare the two sentences. Print out a list of words that occur in both sentences.\n",
        "\n",
        "(d) Remove any punctuation from the sentence and print the sanitized sentences. It should remove at least the following characters, but it can remove more: period(“.”), comma (“,”), semicolon (“;”), and colon (“:”).\n",
        "\n",
        "(e) Count the number of vowels in each of the sentences. Print out each vowel and the occurrences  in the each of the two sentences separately, such as:\n",
        "\n",
        "Sentence1: a:2, e:2, i:0, etc.\n",
        "Sentence2: a:1, e:2, i:2, etc.\n",
        "\n",
        "Design a well-structured Python program to execute these tasks efficiently."
      ]
    },
    {
      "cell_type": "code",
      "execution_count": null,
      "metadata": {
        "id": "Y0oOSlsOS0cq",
        "colab": {
          "base_uri": "https://localhost:8080/"
        },
        "outputId": "23d19945-ea62-494e-815d-a1a585719e4c"
      },
      "outputs": [
        {
          "output_type": "stream",
          "name": "stdout",
          "text": [
            "Enter the first sentence: Hello good morning !\n",
            "Enter the second sentence: Hello good night!\n",
            "['Hello', 'good', 'morning', '!', 'Hello', 'good', 'night!']\n",
            "Common words in both sentences are: \n",
            "Hello\n",
            "good\n",
            "First sentence without punctuations:  Hello good morning \n",
            "Second sentence without punctuations:  Hello good night\n",
            "Vowels in first sentence:  {'a': 0, 'e': 1, 'i': 1, 'o': 4, 'u': 0, 'A': 0, 'E': 0, 'I': 0, 'O': 0, 'U': 0}\n",
            "Vowels in second sentence:  {'a': 0, 'e': 1, 'i': 1, 'o': 3, 'u': 0, 'A': 0, 'E': 0, 'I': 0, 'O': 0, 'U': 0}\n"
          ]
        }
      ],
      "source": [
        "\n",
        "import string\n",
        "#creating a function to count the vowels\n",
        "def count_vowels(sentence):\n",
        "  vowel='aeiouAEIOU'\n",
        "  counts = {char: sentence.count(char) for char in vowel}\n",
        "  return counts\n",
        "#takes the input from user\n",
        "First_sentence = input(\"Enter the first sentence: \")\n",
        "Second_sentence = input(\"Enter the second sentence: \")\n",
        "list1 = First_sentence.split()\n",
        "list2 = Second_sentence.split()\n",
        "print(list1+list2)\n",
        "print(\"Common words in both sentences are: \")\n",
        "for word in list1:\n",
        "  if word in list2:\n",
        "    print(word )\n",
        "#removing the punctuation from the sentence\n",
        "\n",
        "First_sentence = First_sentence.translate(str.maketrans('', '', string.punctuation))\n",
        "Second_sentence = Second_sentence.translate(str.maketrans('', '', string.punctuation))\n",
        "print(\"First sentence without punctuations: \",First_sentence)\n",
        "print(\"Second sentence without punctuations: \",Second_sentence)\n",
        "#counting the vowels\n",
        "print(\"Vowels in first sentence: \",count_vowels(First_sentence))\n",
        "print(\"Vowels in second sentence: \",count_vowels(Second_sentence))"
      ]
    },
    {
      "cell_type": "markdown",
      "source": [
        "# Question 4 (20 Points)"
      ],
      "metadata": {
        "id": "OP4-5qxAtInv"
      }
    },
    {
      "cell_type": "markdown",
      "source": [
        "Design and implement a simple command-line calculator program. The program should handle both integers and floating-point numbers.\n",
        "\n",
        "(a) Write program that takes a mathematical expression as input and evaluates it. The program should support addition, subtraction, multiplication, and division.\n",
        "\n",
        "(b) Extend the calculator to handle parentheses in mathematical expressions. Implement the necessary logic to evaluate expressions with nested parentheses.\n",
        "\n",
        "(c) Enhance your calculator to include additional mathematical operations such as exponentiation, square root, and modulus.\n",
        "\n",
        "(d) Implement error handling in the calculator program. Handle cases such as division by zero and invalid input expressions. Provide meaningful error messages.\n",
        "\n",
        "(e) Implement a command to exit the calculator."
      ],
      "metadata": {
        "id": "uzN4_hDptK9U"
      }
    },
    {
      "cell_type": "code",
      "source": [
        "import math\n",
        "#function to evaluate the expression using eval()\n",
        "def evaluate_expression(expression):\n",
        "    try:\n",
        "        return eval(expression)\n",
        "    #handle division by zero error\n",
        "    except ZeroDivisionError:\n",
        "        return \"Error: Division by zero.\"\n",
        "    except Exception as e:\n",
        "        return f\"Error: {str(e)}\"\n",
        "\n",
        "def calculator():\n",
        "    print(\"Welcome!\")\n",
        "    print(\"You can perform operations like +, -, *, /.\")\n",
        "    print(\"Type 'exit' to quit the calculator.\")\n",
        "    #using while loop to take cotinuous inputs from user\n",
        "    while True:\n",
        "        user_input = input(\"Enter a mathematical expression: \")\n",
        "        if user_input.lower() == 'exit':\n",
        "            print(\"Exiting the calculator. Goodbye!\")\n",
        "            #breaks the loop when user types exit\n",
        "            break\n",
        "        result = evaluate_expression(user_input)\n",
        "        print(f\"Result: {result}\")\n",
        "\n",
        "if __name__ == \"__main__\":\n",
        "    calculator()"
      ],
      "metadata": {
        "id": "8nQnVxjJuYtu",
        "colab": {
          "base_uri": "https://localhost:8080/"
        },
        "outputId": "944e8385-033e-4c4b-9ecc-aa7015bd6162"
      },
      "execution_count": null,
      "outputs": [
        {
          "output_type": "stream",
          "name": "stdout",
          "text": [
            "Welcome!\n",
            "You can perform operations like +, -, *, /.\n",
            "Type 'exit' to quit the calculator.\n",
            "Result: 131\n",
            "Result: 10.5\n",
            "Enter a mathematical expression: Exit\n",
            "Exiting the calculator. Goodbye!\n"
          ]
        }
      ]
    },
    {
      "cell_type": "markdown",
      "metadata": {
        "id": "z3tBE7E-Xn5X"
      },
      "source": [
        "# Question 5 (30 points).\n",
        "\n",
        "In the field of Data Science, data is often formatted as a comma-delimited (CSV) file, where each line in a file corresponds to a field's value. Refer to Chapter 9 (p. 106) for more information on comma-delimited files.\n",
        "\n",
        "To answer this question, you will need to download the file [Assignment1_denton_housing.csv](https://raw.githubusercontent.com/unt-iialab/info5731-spring2022/main/assignments/Assignment1_denton_housing.csv) included with this assignment. The file contains statistics about housing in the city of Denton from 2008 to 2014. Write a program to implement the following questions.\n",
        "\n",
        "(a) (5 pts) Calculate the difference in the number of Occupied Housing Units from year to year and print it. The difference must be calculated for the consecutive years such as 2008-2009, 2009-2010 etc. Finally, print the values in the ascending order.\n",
        "\n",
        "(b) (5 pts) For all the years, calculate the percentage of housing units which are vacant an occupied. Print the results in the following format:\n",
        "\n",
        "Year Vacant Housing Units Occupied Housing Units\n",
        "\n",
        "    2008  30%   70%                          \n",
        "\t2009 ----- -----\n",
        "\t2010 ----- -----\n",
        "    2011 ----- -----\n",
        "\t2012 ----- -----\n",
        "    2013 ----- -----\n",
        "\t2014 ----- -----\n",
        "  \n",
        "  \n",
        "\n",
        "(c) (10 pts) Calculate and print the valued and years in which the highest number of housing units were vacant and occupied. Print the results in the following format:  \n",
        "\n",
        "                              Year\tValue\n",
        "\tVacant Housing Units\t  -----   -----\n",
        "\tOccupied Housing Units\t-----   -----\n",
        "\n",
        "(d) (10 pts) Calculate the harmonic mean of the total housing units and print it out. You can find the information about harmonic mean here: https://ncalculators.com/statistics/harmonic-mean-calculator.htm"
      ]
    },
    {
      "cell_type": "code",
      "execution_count": null,
      "metadata": {
        "id": "lqGYuHBhcsRH",
        "colab": {
          "base_uri": "https://localhost:8080/"
        },
        "outputId": "efc6b193-c77f-437b-f5cd-057696093d46"
      },
      "outputs": [
        {
          "output_type": "stream",
          "name": "stdout",
          "text": [
            "  Year Range  Difference\n",
            "0  2009-2010       795.0\n",
            "1  2010-2011      5091.0\n",
            "2  2011-2012       303.0\n",
            "3  2012-2013      1404.0\n",
            "4  2013-2014      1565.0\n",
            "5  2014-2015      2622.0\n",
            "\t\n",
            "Year Vacant Housing Units (%) Occupied Housing Units (%)\n",
            "2009                 9.071116                  90.928884\n",
            "2010                 8.142556                  91.857444\n",
            "2011                 9.379522                  90.620478\n",
            "2012                 6.677600                  93.322400\n",
            "2013                 8.801788                  91.198212\n",
            "2014                 5.730111                  94.269889\n",
            "\t\n",
            "Vacant Housing Units: 2008, 4483\n",
            "Occupied Housing Units: 2014, 46295\n",
            "\t\n",
            "The harmonic mean of the total housing units  44981.43.\n",
            "\t\n"
          ]
        }
      ],
      "source": [
        "import pandas as pd\n",
        "from scipy.stats import hmean\n",
        "\n",
        "# load the CSV file into a DataFrame\n",
        "df = pd.read_csv('Assignment1_denton_housing.csv')\n",
        "\n",
        "#a\n",
        "#sorting occupied housing units by year\n",
        "occupied_df = df[df['title_field'] == 'Occupied Housing Units'].sort_values(by='year')\n",
        "occupied_df['Difference'] = occupied_df['value'].diff().abs()\n",
        "# droping NaN value\n",
        "occupied_df = occupied_df.dropna()\n",
        "#arranging columns\n",
        "occupied_df['Year Range'] = occupied_df['year'].astype(int).astype(str) + '-' + (occupied_df['year'] + 1).astype(int).astype(str)\n",
        "result_df = occupied_df[['Year Range', 'Difference']]\n",
        "# reset the index to remove the old one\n",
        "result_df = result_df.reset_index(drop=True)\n",
        "print(result_df)\n",
        "print(\"\\t\")\n",
        "#b\n",
        "#sorting vacant housing units by year\n",
        "vacant_df = df[df['title_field'] == 'Vacant Housing Units'].sort_values(by='year')\n",
        "# merge the two DataFrames\n",
        "merged_df = pd.merge(occupied_df[['year', 'value']], vacant_df[['year', 'value']], on='year', suffixes=('_Occupied', '_Vacant'))\n",
        "#calculating total units\n",
        "merged_df['Total Units'] = merged_df['value_Occupied'] + merged_df['value_Vacant']\n",
        "# percentage of occupied and vacant housing units\n",
        "merged_df['% Occupied'] = (merged_df['value_Occupied'] / merged_df['Total Units']) * 100\n",
        "merged_df['% Vacant'] = (merged_df['value_Vacant'] / merged_df['Total Units']) * 100\n",
        "result_df = merged_df[['year', '% Vacant', '% Occupied']]\n",
        "print(result_df.to_string(index=False, header=['Year', 'Vacant Housing Units (%)', 'Occupied Housing Units (%)']))\n",
        "print(\"\\t\")\n",
        "\n",
        "#c\n",
        "# finding the year and value which has maximum number of Occupied Housing Units\n",
        "max_occupied = occupied_df.loc[occupied_df['value'].idxmax()]\n",
        "max_occupied_year = int(max_occupied['year'])\n",
        "max_occupied_value = int(max_occupied['value'])\n",
        "#finding the year and value which has maximum number of vacant Housing Units\n",
        "max_vacant = vacant_df.loc[vacant_df['value'].idxmax()]\n",
        "max_vacant_year = int(max_vacant['year'])\n",
        "max_vacant_value = int(max_vacant['value'])\n",
        "\n",
        "print(f\"Vacant Housing Units: {max_vacant_year}, {max_vacant_value}\")\n",
        "print(f\"Occupied Housing Units: {max_occupied_year}, {max_occupied_value}\")\n",
        "print(\"\\t\")\n",
        "\n",
        "#d\n",
        "harmonic_mean_total_units = hmean(merged_df['Total Units'])\n",
        "print(f\"The harmonic mean of the total housing units  {harmonic_mean_total_units:.2f}.\")\n",
        "print(\"\\t\")\n"
      ]
    },
    {
      "cell_type": "markdown",
      "source": [
        "# Mandatory Question\n",
        "\n",
        "Provide your thoughts on the assignment. What did you find challenging, and what aspects did you enjoy? Your opinion on the provided time to complete the assignment. Share any suggestions for improvement. Your feedback will be valuable for enhancing the learning experience."
      ],
      "metadata": {
        "id": "q8BFCvWp32cf"
      }
    },
    {
      "cell_type": "code",
      "source": [
        "#Last question in the assignment is bit challenging. Time given for the assignment is sufficient."
      ],
      "metadata": {
        "id": "_e557s2w4BpK"
      },
      "execution_count": null,
      "outputs": []
    }
  ],
  "metadata": {
    "colab": {
      "provenance": [],
      "include_colab_link": true
    },
    "kernelspec": {
      "display_name": "Python 3 (ipykernel)",
      "language": "python",
      "name": "python3"
    },
    "language_info": {
      "codemirror_mode": {
        "name": "ipython",
        "version": 3
      },
      "file_extension": ".py",
      "mimetype": "text/x-python",
      "name": "python",
      "nbconvert_exporter": "python",
      "pygments_lexer": "ipython3",
      "version": "3.9.12"
    }
  },
  "nbformat": 4,
  "nbformat_minor": 0
}